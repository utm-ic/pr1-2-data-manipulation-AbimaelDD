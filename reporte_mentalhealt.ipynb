{
 "cells": [
  {
   "cell_type": "markdown",
   "metadata": {},
   "source": [
    "# Practica 1.1. Manipuación de datos\n",
    "\n",
    "## Objetivo\n",
    "\n",
    "En esta práctica, aprenderás a aplicar técnicas de análisis de datos utilizando Pandas para explorar un dataset relacionado con la salud mental. El objetivo es que pongas en práctica tus habilidades de manipulación, limpieza y análisis de datos para obtener conclusiones interesantes."
   ]
  },
  {
   "cell_type": "markdown",
   "metadata": {},
   "source": [
    "Reporte"
   ]
  },
  {
   "cell_type": "code",
   "execution_count": 2,
   "metadata": {},
   "outputs": [],
   "source": [
    "import pandas as pd \n",
    "import numpy as np\n",
    "import matplotlib.pyplot as plt\n",
    "import seaborn as sns"
   ]
  },
  {
   "cell_type": "markdown",
   "metadata": {},
   "source": [
    "# Paso 1: Carga del dataset"
   ]
  },
  {
   "cell_type": "code",
   "execution_count": 3,
   "metadata": {},
   "outputs": [],
   "source": [
    "datos = pd.read_csv('dataset/mental_health.csv')"
   ]
  },
  {
   "cell_type": "markdown",
   "metadata": {},
   "source": [
    "Explorando el dataset"
   ]
  },
  {
   "cell_type": "code",
   "execution_count": 4,
   "metadata": {},
   "outputs": [
    {
     "data": {
      "text/html": [
       "<div>\n",
       "<style scoped>\n",
       "    .dataframe tbody tr th:only-of-type {\n",
       "        vertical-align: middle;\n",
       "    }\n",
       "\n",
       "    .dataframe tbody tr th {\n",
       "        vertical-align: top;\n",
       "    }\n",
       "\n",
       "    .dataframe thead th {\n",
       "        text-align: right;\n",
       "    }\n",
       "</style>\n",
       "<table border=\"1\" class=\"dataframe\">\n",
       "  <thead>\n",
       "    <tr style=\"text-align: right;\">\n",
       "      <th></th>\n",
       "      <th>Age</th>\n",
       "      <th>Gender</th>\n",
       "      <th>Education_Level</th>\n",
       "      <th>Employment_Status</th>\n",
       "      <th>Sleep_Hours</th>\n",
       "      <th>Physical_Activity_Hrs</th>\n",
       "      <th>Social_Support_Score</th>\n",
       "      <th>Anxiety_Score</th>\n",
       "      <th>Depression_Score</th>\n",
       "      <th>Stress_Level</th>\n",
       "      <th>...</th>\n",
       "      <th>Chronic_Illnesses</th>\n",
       "      <th>Medication_Use</th>\n",
       "      <th>Therapy</th>\n",
       "      <th>Meditation</th>\n",
       "      <th>Substance_Use</th>\n",
       "      <th>Financial_Stress</th>\n",
       "      <th>Work_Stress</th>\n",
       "      <th>Self_Esteem_Score</th>\n",
       "      <th>Life_Satisfaction_Score</th>\n",
       "      <th>Loneliness_Score</th>\n",
       "    </tr>\n",
       "  </thead>\n",
       "  <tbody>\n",
       "    <tr>\n",
       "      <th>0</th>\n",
       "      <td>56</td>\n",
       "      <td>Male</td>\n",
       "      <td>Bachelor's</td>\n",
       "      <td>Unemployed</td>\n",
       "      <td>6.0</td>\n",
       "      <td>0.4</td>\n",
       "      <td>3</td>\n",
       "      <td>4</td>\n",
       "      <td>2</td>\n",
       "      <td>9</td>\n",
       "      <td>...</td>\n",
       "      <td>0</td>\n",
       "      <td>NaN</td>\n",
       "      <td>0</td>\n",
       "      <td>1</td>\n",
       "      <td>NaN</td>\n",
       "      <td>4</td>\n",
       "      <td>3</td>\n",
       "      <td>7</td>\n",
       "      <td>5</td>\n",
       "      <td>1</td>\n",
       "    </tr>\n",
       "    <tr>\n",
       "      <th>1</th>\n",
       "      <td>69</td>\n",
       "      <td>Female</td>\n",
       "      <td>Bachelor's</td>\n",
       "      <td>Retired</td>\n",
       "      <td>8.8</td>\n",
       "      <td>2.8</td>\n",
       "      <td>6</td>\n",
       "      <td>18</td>\n",
       "      <td>7</td>\n",
       "      <td>6</td>\n",
       "      <td>...</td>\n",
       "      <td>0</td>\n",
       "      <td>NaN</td>\n",
       "      <td>1</td>\n",
       "      <td>0</td>\n",
       "      <td>NaN</td>\n",
       "      <td>1</td>\n",
       "      <td>4</td>\n",
       "      <td>7</td>\n",
       "      <td>4</td>\n",
       "      <td>6</td>\n",
       "    </tr>\n",
       "    <tr>\n",
       "      <th>2</th>\n",
       "      <td>46</td>\n",
       "      <td>Female</td>\n",
       "      <td>Master's</td>\n",
       "      <td>Employed</td>\n",
       "      <td>5.3</td>\n",
       "      <td>1.6</td>\n",
       "      <td>5</td>\n",
       "      <td>5</td>\n",
       "      <td>13</td>\n",
       "      <td>8</td>\n",
       "      <td>...</td>\n",
       "      <td>0</td>\n",
       "      <td>NaN</td>\n",
       "      <td>0</td>\n",
       "      <td>1</td>\n",
       "      <td>NaN</td>\n",
       "      <td>8</td>\n",
       "      <td>7</td>\n",
       "      <td>8</td>\n",
       "      <td>1</td>\n",
       "      <td>1</td>\n",
       "    </tr>\n",
       "    <tr>\n",
       "      <th>3</th>\n",
       "      <td>32</td>\n",
       "      <td>Female</td>\n",
       "      <td>High School</td>\n",
       "      <td>Unemployed</td>\n",
       "      <td>8.8</td>\n",
       "      <td>0.5</td>\n",
       "      <td>4</td>\n",
       "      <td>6</td>\n",
       "      <td>3</td>\n",
       "      <td>4</td>\n",
       "      <td>...</td>\n",
       "      <td>1</td>\n",
       "      <td>NaN</td>\n",
       "      <td>0</td>\n",
       "      <td>0</td>\n",
       "      <td>NaN</td>\n",
       "      <td>7</td>\n",
       "      <td>4</td>\n",
       "      <td>8</td>\n",
       "      <td>4</td>\n",
       "      <td>4</td>\n",
       "    </tr>\n",
       "    <tr>\n",
       "      <th>4</th>\n",
       "      <td>60</td>\n",
       "      <td>Female</td>\n",
       "      <td>Bachelor's</td>\n",
       "      <td>Retired</td>\n",
       "      <td>7.2</td>\n",
       "      <td>0.7</td>\n",
       "      <td>2</td>\n",
       "      <td>7</td>\n",
       "      <td>15</td>\n",
       "      <td>3</td>\n",
       "      <td>...</td>\n",
       "      <td>0</td>\n",
       "      <td>NaN</td>\n",
       "      <td>1</td>\n",
       "      <td>1</td>\n",
       "      <td>Frequent</td>\n",
       "      <td>8</td>\n",
       "      <td>9</td>\n",
       "      <td>5</td>\n",
       "      <td>7</td>\n",
       "      <td>7</td>\n",
       "    </tr>\n",
       "  </tbody>\n",
       "</table>\n",
       "<p>5 rows × 21 columns</p>\n",
       "</div>"
      ],
      "text/plain": [
       "   Age  Gender Education_Level Employment_Status  Sleep_Hours  \\\n",
       "0   56    Male      Bachelor's        Unemployed          6.0   \n",
       "1   69  Female      Bachelor's           Retired          8.8   \n",
       "2   46  Female        Master's          Employed          5.3   \n",
       "3   32  Female     High School        Unemployed          8.8   \n",
       "4   60  Female      Bachelor's           Retired          7.2   \n",
       "\n",
       "   Physical_Activity_Hrs  Social_Support_Score  Anxiety_Score  \\\n",
       "0                    0.4                     3              4   \n",
       "1                    2.8                     6             18   \n",
       "2                    1.6                     5              5   \n",
       "3                    0.5                     4              6   \n",
       "4                    0.7                     2              7   \n",
       "\n",
       "   Depression_Score  Stress_Level  ...  Chronic_Illnesses  Medication_Use  \\\n",
       "0                 2             9  ...                  0             NaN   \n",
       "1                 7             6  ...                  0             NaN   \n",
       "2                13             8  ...                  0             NaN   \n",
       "3                 3             4  ...                  1             NaN   \n",
       "4                15             3  ...                  0             NaN   \n",
       "\n",
       "  Therapy  Meditation  Substance_Use Financial_Stress  Work_Stress  \\\n",
       "0       0           1            NaN                4            3   \n",
       "1       1           0            NaN                1            4   \n",
       "2       0           1            NaN                8            7   \n",
       "3       0           0            NaN                7            4   \n",
       "4       1           1       Frequent                8            9   \n",
       "\n",
       "   Self_Esteem_Score  Life_Satisfaction_Score  Loneliness_Score  \n",
       "0                  7                        5                 1  \n",
       "1                  7                        4                 6  \n",
       "2                  8                        1                 1  \n",
       "3                  8                        4                 4  \n",
       "4                  5                        7                 7  \n",
       "\n",
       "[5 rows x 21 columns]"
      ]
     },
     "execution_count": 4,
     "metadata": {},
     "output_type": "execute_result"
    }
   ],
   "source": [
    "(\n",
    "    datos.head()\n",
    ")    "
   ]
  },
  {
   "cell_type": "markdown",
   "metadata": {},
   "source": [
    "Imprime la información de las columnas: nombre, datos no nulos y tipo de datos"
   ]
  },
  {
   "cell_type": "code",
   "execution_count": 5,
   "metadata": {},
   "outputs": [
    {
     "name": "stdout",
     "output_type": "stream",
     "text": [
      "<class 'pandas.core.frame.DataFrame'>\n",
      "RangeIndex: 1200 entries, 0 to 1199\n",
      "Data columns (total 21 columns):\n",
      " #   Column                         Non-Null Count  Dtype  \n",
      "---  ------                         --------------  -----  \n",
      " 0   Age                            1200 non-null   int64  \n",
      " 1   Gender                         1200 non-null   object \n",
      " 2   Education_Level                1200 non-null   object \n",
      " 3   Employment_Status              1200 non-null   object \n",
      " 4   Sleep_Hours                    1200 non-null   float64\n",
      " 5   Physical_Activity_Hrs          1200 non-null   float64\n",
      " 6   Social_Support_Score           1200 non-null   int64  \n",
      " 7   Anxiety_Score                  1200 non-null   int64  \n",
      " 8   Depression_Score               1200 non-null   int64  \n",
      " 9   Stress_Level                   1200 non-null   int64  \n",
      " 10  Family_History_Mental_Illness  1200 non-null   int64  \n",
      " 11  Chronic_Illnesses              1200 non-null   int64  \n",
      " 12  Medication_Use                 453 non-null    object \n",
      " 13  Therapy                        1200 non-null   int64  \n",
      " 14  Meditation                     1200 non-null   int64  \n",
      " 15  Substance_Use                  366 non-null    object \n",
      " 16  Financial_Stress               1200 non-null   int64  \n",
      " 17  Work_Stress                    1200 non-null   int64  \n",
      " 18  Self_Esteem_Score              1200 non-null   int64  \n",
      " 19  Life_Satisfaction_Score        1200 non-null   int64  \n",
      " 20  Loneliness_Score               1200 non-null   int64  \n",
      "dtypes: float64(2), int64(14), object(5)\n",
      "memory usage: 197.0+ KB\n"
     ]
    }
   ],
   "source": [
    "(\n",
    "    datos.info()\n",
    ")"
   ]
  },
  {
   "cell_type": "markdown",
   "metadata": {},
   "source": [
    "Imprime el número de filas"
   ]
  },
  {
   "cell_type": "code",
   "execution_count": 6,
   "metadata": {},
   "outputs": [
    {
     "name": "stdout",
     "output_type": "stream",
     "text": [
      "Registros (filas): 1200\n"
     ]
    }
   ],
   "source": [
    "print(f\"Registros (filas): {datos.shape[0]}\")"
   ]
  },
  {
   "cell_type": "markdown",
   "metadata": {},
   "source": [
    "Imprime el número de columnas"
   ]
  },
  {
   "cell_type": "code",
   "execution_count": 7,
   "metadata": {},
   "outputs": [
    {
     "name": "stdout",
     "output_type": "stream",
     "text": [
      "Columnas: 21\n"
     ]
    }
   ],
   "source": [
    "print(f\"Columnas: {datos.shape[1]}\")"
   ]
  },
  {
   "cell_type": "markdown",
   "metadata": {},
   "source": [
    "Los datos que predominan son: int64, float64 y object"
   ]
  },
  {
   "cell_type": "markdown",
   "metadata": {},
   "source": [
    "# Paso 2: Exploración Inicial"
   ]
  },
  {
   "cell_type": "markdown",
   "metadata": {},
   "source": [
    "Muestra los tipos de variables: tenemos int, float y object"
   ]
  },
  {
   "cell_type": "code",
   "execution_count": 8,
   "metadata": {},
   "outputs": [
    {
     "name": "stdout",
     "output_type": "stream",
     "text": [
      "Age                                int64\n",
      "Gender                            object\n",
      "Education_Level                   object\n",
      "Employment_Status                 object\n",
      "Sleep_Hours                      float64\n",
      "Physical_Activity_Hrs            float64\n",
      "Social_Support_Score               int64\n",
      "Anxiety_Score                      int64\n",
      "Depression_Score                   int64\n",
      "Stress_Level                       int64\n",
      "Family_History_Mental_Illness      int64\n",
      "Chronic_Illnesses                  int64\n",
      "Medication_Use                    object\n",
      "Therapy                            int64\n",
      "Meditation                         int64\n",
      "Substance_Use                     object\n",
      "Financial_Stress                   int64\n",
      "Work_Stress                        int64\n",
      "Self_Esteem_Score                  int64\n",
      "Life_Satisfaction_Score            int64\n",
      "Loneliness_Score                   int64\n",
      "dtype: object\n"
     ]
    }
   ],
   "source": [
    "print(datos.dtypes)"
   ]
  },
  {
   "cell_type": "markdown",
   "metadata": {},
   "source": [
    "Imprimimos 5 columnas que podrían ser categóricas"
   ]
  },
  {
   "cell_type": "code",
   "execution_count": 9,
   "metadata": {},
   "outputs": [
    {
     "name": "stdout",
     "output_type": "stream",
     "text": [
      "Index(['Gender', 'Education_Level', 'Employment_Status', 'Medication_Use',\n",
      "       'Substance_Use'],\n",
      "      dtype='object')\n"
     ]
    }
   ],
   "source": [
    "print(datos.select_dtypes(include=['object']).columns)"
   ]
  },
  {
   "cell_type": "markdown",
   "metadata": {},
   "source": [
    "Analisando las columnas:"
   ]
  },
  {
   "cell_type": "code",
   "execution_count": 10,
   "metadata": {},
   "outputs": [
    {
     "name": "stdout",
     "output_type": "stream",
     "text": [
      "0         Male\n",
      "1       Female\n",
      "2       Female\n",
      "3       Female\n",
      "4       Female\n",
      "         ...  \n",
      "1195    Female\n",
      "1196    Female\n",
      "1197    Female\n",
      "1198      Male\n",
      "1199      Male\n",
      "Name: Gender, Length: 1200, dtype: object\n"
     ]
    }
   ],
   "source": [
    "print(datos['Gender'])"
   ]
  },
  {
   "cell_type": "markdown",
   "metadata": {},
   "source": [
    "Gender: Es un columna categórica porque sólo tiene dos valores posibles, masculino o femenino."
   ]
  },
  {
   "cell_type": "code",
   "execution_count": 11,
   "metadata": {},
   "outputs": [
    {
     "name": "stdout",
     "output_type": "stream",
     "text": [
      "0        Bachelor's\n",
      "1        Bachelor's\n",
      "2          Master's\n",
      "3       High School\n",
      "4        Bachelor's\n",
      "           ...     \n",
      "1195          Other\n",
      "1196       Master's\n",
      "1197            PhD\n",
      "1198          Other\n",
      "1199          Other\n",
      "Name: Education_Level, Length: 1200, dtype: object\n"
     ]
    }
   ],
   "source": [
    "print(datos['Education_Level'])"
   ]
  },
  {
   "cell_type": "markdown",
   "metadata": {},
   "source": [
    "Education_Level: De igual manera es una variable categórica, ya que representa diferentes categorías del nivel educativo"
   ]
  },
  {
   "cell_type": "code",
   "execution_count": 12,
   "metadata": {},
   "outputs": [
    {
     "name": "stdout",
     "output_type": "stream",
     "text": [
      "0       Unemployed\n",
      "1          Retired\n",
      "2         Employed\n",
      "3       Unemployed\n",
      "4          Retired\n",
      "           ...    \n",
      "1195       Student\n",
      "1196      Employed\n",
      "1197       Retired\n",
      "1198      Employed\n",
      "1199      Employed\n",
      "Name: Employment_Status, Length: 1200, dtype: object\n"
     ]
    }
   ],
   "source": [
    "print(datos['Employment_Status'])"
   ]
  },
  {
   "cell_type": "markdown",
   "metadata": {},
   "source": [
    "Employment_Status: Es categória porque clasifica a las personas en grupos discretos."
   ]
  },
  {
   "cell_type": "code",
   "execution_count": 13,
   "metadata": {},
   "outputs": [
    {
     "name": "stdout",
     "output_type": "stream",
     "text": [
      "0              NaN\n",
      "1              NaN\n",
      "2              NaN\n",
      "3              NaN\n",
      "4              NaN\n",
      "           ...    \n",
      "1195    Occasional\n",
      "1196           NaN\n",
      "1197           NaN\n",
      "1198           NaN\n",
      "1199           NaN\n",
      "Name: Medication_Use, Length: 1200, dtype: object\n"
     ]
    }
   ],
   "source": [
    "print(datos['Medication_Use'])"
   ]
  },
  {
   "cell_type": "markdown",
   "metadata": {},
   "source": [
    "Medication_Use: Igual es una variable categórica, porque clasifica a las personas sobre el uso de mediamentos"
   ]
  },
  {
   "cell_type": "code",
   "execution_count": 14,
   "metadata": {},
   "outputs": [
    {
     "name": "stdout",
     "output_type": "stream",
     "text": [
      "0            NaN\n",
      "1            NaN\n",
      "2            NaN\n",
      "3            NaN\n",
      "4       Frequent\n",
      "          ...   \n",
      "1195         NaN\n",
      "1196         NaN\n",
      "1197         NaN\n",
      "1198         NaN\n",
      "1199    Frequent\n",
      "Name: Substance_Use, Length: 1200, dtype: object\n"
     ]
    }
   ],
   "source": [
    "print(datos['Substance_Use'])"
   ]
  },
  {
   "cell_type": "markdown",
   "metadata": {},
   "source": [
    "Substance_Use: Igual es una variable categórica, porque clasifica a las persona por el uso de sustancias."
   ]
  },
  {
   "cell_type": "code",
   "execution_count": 15,
   "metadata": {},
   "outputs": [
    {
     "name": "stdout",
     "output_type": "stream",
     "text": [
      "  Medication_Use Substance_Use\n",
      "0            NaN           NaN\n",
      "1            NaN           NaN\n",
      "2            NaN           NaN\n",
      "3            NaN           NaN\n",
      "4            NaN      Frequent\n"
     ]
    }
   ],
   "source": [
    "valores_inconsistentes = (\n",
    "    datos[\n",
    "        ['Medication_Use','Substance_Use']\n",
    "    ]\n",
    ")\n",
    "print(valores_inconsistentes.head())"
   ]
  },
  {
   "cell_type": "markdown",
   "metadata": {},
   "source": [
    "Las columnas Medication_Use y Substance_Use son valores inconsistentes porque tienen valores faltantes."
   ]
  },
  {
   "cell_type": "markdown",
   "metadata": {},
   "source": [
    "Calculamos las estadísticas básicas: la media, desviación estandar, máximo y minimo"
   ]
  },
  {
   "cell_type": "code",
   "execution_count": 16,
   "metadata": {},
   "outputs": [
    {
     "data": {
      "text/html": [
       "<div>\n",
       "<style scoped>\n",
       "    .dataframe tbody tr th:only-of-type {\n",
       "        vertical-align: middle;\n",
       "    }\n",
       "\n",
       "    .dataframe tbody tr th {\n",
       "        vertical-align: top;\n",
       "    }\n",
       "\n",
       "    .dataframe thead th {\n",
       "        text-align: right;\n",
       "    }\n",
       "</style>\n",
       "<table border=\"1\" class=\"dataframe\">\n",
       "  <thead>\n",
       "    <tr style=\"text-align: right;\">\n",
       "      <th></th>\n",
       "      <th>Age</th>\n",
       "      <th>Sleep_Hours</th>\n",
       "      <th>Physical_Activity_Hrs</th>\n",
       "      <th>Social_Support_Score</th>\n",
       "      <th>Anxiety_Score</th>\n",
       "      <th>Depression_Score</th>\n",
       "      <th>Stress_Level</th>\n",
       "      <th>Family_History_Mental_Illness</th>\n",
       "      <th>Chronic_Illnesses</th>\n",
       "      <th>Therapy</th>\n",
       "      <th>Meditation</th>\n",
       "      <th>Financial_Stress</th>\n",
       "      <th>Work_Stress</th>\n",
       "      <th>Self_Esteem_Score</th>\n",
       "      <th>Life_Satisfaction_Score</th>\n",
       "      <th>Loneliness_Score</th>\n",
       "    </tr>\n",
       "  </thead>\n",
       "  <tbody>\n",
       "    <tr>\n",
       "      <th>count</th>\n",
       "      <td>1200.000000</td>\n",
       "      <td>1200.00000</td>\n",
       "      <td>1200.000000</td>\n",
       "      <td>1200.000000</td>\n",
       "      <td>1200.000000</td>\n",
       "      <td>1200.000000</td>\n",
       "      <td>1200.000000</td>\n",
       "      <td>1200.000000</td>\n",
       "      <td>1200.00000</td>\n",
       "      <td>1200.000000</td>\n",
       "      <td>1200.000000</td>\n",
       "      <td>1200.000000</td>\n",
       "      <td>1200.000000</td>\n",
       "      <td>1200.000000</td>\n",
       "      <td>1200.00000</td>\n",
       "      <td>1200.000000</td>\n",
       "    </tr>\n",
       "    <tr>\n",
       "      <th>mean</th>\n",
       "      <td>46.317500</td>\n",
       "      <td>6.46900</td>\n",
       "      <td>2.005750</td>\n",
       "      <td>5.055000</td>\n",
       "      <td>10.470000</td>\n",
       "      <td>10.674167</td>\n",
       "      <td>5.000833</td>\n",
       "      <td>0.318333</td>\n",
       "      <td>0.26750</td>\n",
       "      <td>0.210000</td>\n",
       "      <td>0.399167</td>\n",
       "      <td>4.992500</td>\n",
       "      <td>4.889167</td>\n",
       "      <td>5.062500</td>\n",
       "      <td>5.12000</td>\n",
       "      <td>4.959167</td>\n",
       "    </tr>\n",
       "    <tr>\n",
       "      <th>std</th>\n",
       "      <td>16.451157</td>\n",
       "      <td>1.52955</td>\n",
       "      <td>2.037818</td>\n",
       "      <td>2.652893</td>\n",
       "      <td>5.911138</td>\n",
       "      <td>5.632889</td>\n",
       "      <td>2.538281</td>\n",
       "      <td>0.466024</td>\n",
       "      <td>0.44284</td>\n",
       "      <td>0.407478</td>\n",
       "      <td>0.489931</td>\n",
       "      <td>2.590953</td>\n",
       "      <td>2.547016</td>\n",
       "      <td>2.531587</td>\n",
       "      <td>2.56991</td>\n",
       "      <td>2.566383</td>\n",
       "    </tr>\n",
       "    <tr>\n",
       "      <th>min</th>\n",
       "      <td>18.000000</td>\n",
       "      <td>2.00000</td>\n",
       "      <td>0.000000</td>\n",
       "      <td>1.000000</td>\n",
       "      <td>1.000000</td>\n",
       "      <td>1.000000</td>\n",
       "      <td>1.000000</td>\n",
       "      <td>0.000000</td>\n",
       "      <td>0.00000</td>\n",
       "      <td>0.000000</td>\n",
       "      <td>0.000000</td>\n",
       "      <td>1.000000</td>\n",
       "      <td>1.000000</td>\n",
       "      <td>1.000000</td>\n",
       "      <td>1.00000</td>\n",
       "      <td>1.000000</td>\n",
       "    </tr>\n",
       "    <tr>\n",
       "      <th>25%</th>\n",
       "      <td>33.000000</td>\n",
       "      <td>5.40000</td>\n",
       "      <td>0.600000</td>\n",
       "      <td>3.000000</td>\n",
       "      <td>5.000000</td>\n",
       "      <td>6.000000</td>\n",
       "      <td>3.000000</td>\n",
       "      <td>0.000000</td>\n",
       "      <td>0.00000</td>\n",
       "      <td>0.000000</td>\n",
       "      <td>0.000000</td>\n",
       "      <td>3.000000</td>\n",
       "      <td>3.000000</td>\n",
       "      <td>3.000000</td>\n",
       "      <td>3.00000</td>\n",
       "      <td>3.000000</td>\n",
       "    </tr>\n",
       "    <tr>\n",
       "      <th>50%</th>\n",
       "      <td>46.000000</td>\n",
       "      <td>6.40000</td>\n",
       "      <td>1.400000</td>\n",
       "      <td>5.000000</td>\n",
       "      <td>10.500000</td>\n",
       "      <td>11.000000</td>\n",
       "      <td>5.000000</td>\n",
       "      <td>0.000000</td>\n",
       "      <td>0.00000</td>\n",
       "      <td>0.000000</td>\n",
       "      <td>0.000000</td>\n",
       "      <td>5.000000</td>\n",
       "      <td>5.000000</td>\n",
       "      <td>5.000000</td>\n",
       "      <td>5.00000</td>\n",
       "      <td>5.000000</td>\n",
       "    </tr>\n",
       "    <tr>\n",
       "      <th>75%</th>\n",
       "      <td>61.000000</td>\n",
       "      <td>7.50000</td>\n",
       "      <td>2.700000</td>\n",
       "      <td>7.000000</td>\n",
       "      <td>16.000000</td>\n",
       "      <td>15.000000</td>\n",
       "      <td>7.000000</td>\n",
       "      <td>1.000000</td>\n",
       "      <td>1.00000</td>\n",
       "      <td>0.000000</td>\n",
       "      <td>1.000000</td>\n",
       "      <td>7.000000</td>\n",
       "      <td>7.000000</td>\n",
       "      <td>7.000000</td>\n",
       "      <td>7.00000</td>\n",
       "      <td>7.000000</td>\n",
       "    </tr>\n",
       "    <tr>\n",
       "      <th>max</th>\n",
       "      <td>74.000000</td>\n",
       "      <td>12.40000</td>\n",
       "      <td>15.100000</td>\n",
       "      <td>9.000000</td>\n",
       "      <td>20.000000</td>\n",
       "      <td>20.000000</td>\n",
       "      <td>9.000000</td>\n",
       "      <td>1.000000</td>\n",
       "      <td>1.00000</td>\n",
       "      <td>1.000000</td>\n",
       "      <td>1.000000</td>\n",
       "      <td>9.000000</td>\n",
       "      <td>9.000000</td>\n",
       "      <td>9.000000</td>\n",
       "      <td>9.00000</td>\n",
       "      <td>9.000000</td>\n",
       "    </tr>\n",
       "  </tbody>\n",
       "</table>\n",
       "</div>"
      ],
      "text/plain": [
       "               Age  Sleep_Hours  Physical_Activity_Hrs  Social_Support_Score  \\\n",
       "count  1200.000000   1200.00000            1200.000000           1200.000000   \n",
       "mean     46.317500      6.46900               2.005750              5.055000   \n",
       "std      16.451157      1.52955               2.037818              2.652893   \n",
       "min      18.000000      2.00000               0.000000              1.000000   \n",
       "25%      33.000000      5.40000               0.600000              3.000000   \n",
       "50%      46.000000      6.40000               1.400000              5.000000   \n",
       "75%      61.000000      7.50000               2.700000              7.000000   \n",
       "max      74.000000     12.40000              15.100000              9.000000   \n",
       "\n",
       "       Anxiety_Score  Depression_Score  Stress_Level  \\\n",
       "count    1200.000000       1200.000000   1200.000000   \n",
       "mean       10.470000         10.674167      5.000833   \n",
       "std         5.911138          5.632889      2.538281   \n",
       "min         1.000000          1.000000      1.000000   \n",
       "25%         5.000000          6.000000      3.000000   \n",
       "50%        10.500000         11.000000      5.000000   \n",
       "75%        16.000000         15.000000      7.000000   \n",
       "max        20.000000         20.000000      9.000000   \n",
       "\n",
       "       Family_History_Mental_Illness  Chronic_Illnesses      Therapy  \\\n",
       "count                    1200.000000         1200.00000  1200.000000   \n",
       "mean                        0.318333            0.26750     0.210000   \n",
       "std                         0.466024            0.44284     0.407478   \n",
       "min                         0.000000            0.00000     0.000000   \n",
       "25%                         0.000000            0.00000     0.000000   \n",
       "50%                         0.000000            0.00000     0.000000   \n",
       "75%                         1.000000            1.00000     0.000000   \n",
       "max                         1.000000            1.00000     1.000000   \n",
       "\n",
       "        Meditation  Financial_Stress  Work_Stress  Self_Esteem_Score  \\\n",
       "count  1200.000000       1200.000000  1200.000000        1200.000000   \n",
       "mean      0.399167          4.992500     4.889167           5.062500   \n",
       "std       0.489931          2.590953     2.547016           2.531587   \n",
       "min       0.000000          1.000000     1.000000           1.000000   \n",
       "25%       0.000000          3.000000     3.000000           3.000000   \n",
       "50%       0.000000          5.000000     5.000000           5.000000   \n",
       "75%       1.000000          7.000000     7.000000           7.000000   \n",
       "max       1.000000          9.000000     9.000000           9.000000   \n",
       "\n",
       "       Life_Satisfaction_Score  Loneliness_Score  \n",
       "count               1200.00000       1200.000000  \n",
       "mean                   5.12000          4.959167  \n",
       "std                    2.56991          2.566383  \n",
       "min                    1.00000          1.000000  \n",
       "25%                    3.00000          3.000000  \n",
       "50%                    5.00000          5.000000  \n",
       "75%                    7.00000          7.000000  \n",
       "max                    9.00000          9.000000  "
      ]
     },
     "execution_count": 16,
     "metadata": {},
     "output_type": "execute_result"
    }
   ],
   "source": [
    "(\n",
    "    datos.describe()\n",
    ")"
   ]
  },
  {
   "cell_type": "markdown",
   "metadata": {},
   "source": [
    "Describe el nombre de las columnas"
   ]
  },
  {
   "cell_type": "code",
   "execution_count": 17,
   "metadata": {},
   "outputs": [
    {
     "data": {
      "text/plain": [
       "Index(['Age', 'Gender', 'Education_Level', 'Employment_Status', 'Sleep_Hours',\n",
       "       'Physical_Activity_Hrs', 'Social_Support_Score', 'Anxiety_Score',\n",
       "       'Depression_Score', 'Stress_Level', 'Family_History_Mental_Illness',\n",
       "       'Chronic_Illnesses', 'Medication_Use', 'Therapy', 'Meditation',\n",
       "       'Substance_Use', 'Financial_Stress', 'Work_Stress', 'Self_Esteem_Score',\n",
       "       'Life_Satisfaction_Score', 'Loneliness_Score'],\n",
       "      dtype='object')"
      ]
     },
     "execution_count": 17,
     "metadata": {},
     "output_type": "execute_result"
    }
   ],
   "source": [
    "(\n",
    "datos.columns\n",
    ")"
   ]
  },
  {
   "cell_type": "markdown",
   "metadata": {},
   "source": [
    "Se analizaron los valores atípicos en el dataset utilizando el método Z-score, se identificaron outliers en las variables Sleep_Hours, Physical_Activity_Hrs, al analizar el contexto de los datos se decidió conservar los outliers."
   ]
  },
  {
   "cell_type": "code",
   "execution_count": 18,
   "metadata": {},
   "outputs": [
    {
     "name": "stdout",
     "output_type": "stream",
     "text": [
      "Outliers en Age: []\n",
      "Outliers en Sleep_Hours: [12.4, 11.4]\n",
      "Outliers en Physical_Activity_Hrs: [8.4, 8.9, 8.2, 13.4, 10.8, 9.3, 8.2, 8.7, 12.1, 8.3, 9.6, 8.5, 14.7, 8.6, 11.2, 10.9, 8.3, 8.8, 9.0, 15.1]\n",
      "Outliers en Social_Support_Score: []\n",
      "Outliers en Anxiety_Score: []\n",
      "Outliers en Depression_Score: []\n",
      "Outliers en Stress_Level: []\n",
      "Outliers en Family_History_Mental_Illness: []\n",
      "Outliers en Chronic_Illnesses: []\n",
      "Outliers en Therapy: []\n",
      "Outliers en Meditation: []\n",
      "Outliers en Financial_Stress: []\n",
      "Outliers en Work_Stress: []\n",
      "Outliers en Self_Esteem_Score: []\n",
      "Outliers en Life_Satisfaction_Score: []\n",
      "Outliers en Loneliness_Score: []\n"
     ]
    }
   ],
   "source": [
    "def zscore_outlier_all(datos):\n",
    "    outliers = {}\n",
    "    for col in datos.select_dtypes(include=['number']).columns:\n",
    "        out = []\n",
    "        m = np.mean(datos[col])\n",
    "        sd = np.std(datos[col])\n",
    "        for i in datos[col]:\n",
    "            z = (i-m) / sd\n",
    "            if np.abs(z) > 3:\n",
    "                out.append(i)\n",
    "        outliers[col] = out         \n",
    "    \n",
    "    return outliers\n",
    "\n",
    "outliers_detectados = zscore_outlier_all(datos)    \n",
    "  \n",
    "for col, valores in outliers_detectados.items():\n",
    "    print(f\"Outliers en {col}: {valores}\")"
   ]
  },
  {
   "cell_type": "markdown",
   "metadata": {},
   "source": [
    "Visualización de columna Sleep_Hours para ver el comportamiento de los outliers "
   ]
  },
  {
   "cell_type": "code",
   "execution_count": 19,
   "metadata": {},
   "outputs": [
    {
     "data": {
      "image/png": "[encoded data removed]",
      "text/plain": [
       "<Figure size 1000x400 with 1 Axes>"
      ]
     },
     "metadata": {},
     "output_type": "display_data"
    }
   ],
   "source": [
    "def Box_plot(datos):\n",
    "    plt.figure(figsize=(10,4))\n",
    "    plt.title(\"Box Plot (Outliers)\")\n",
    "    sns.boxplot(datos)\n",
    "    plt.show()\n",
    "Box_plot(datos['Sleep_Hours'])    "
   ]
  },
  {
   "cell_type": "markdown",
   "metadata": {},
   "source": [
    "Visualización de la variable Physical_Activity_Hrs para ver el comportamiento de los outliers"
   ]
  },
  {
   "cell_type": "code",
   "execution_count": 20,
   "metadata": {},
   "outputs": [
    {
     "data": {
      "image/png": "[encoded data removed]",
      "text/plain": [
       "<Figure size 1000x400 with 1 Axes>"
      ]
     },
     "metadata": {},
     "output_type": "display_data"
    }
   ],
   "source": [
    "def Box_plot(datos):\n",
    "    plt.figure(figsize=(10,4))\n",
    "    plt.title(\"Box Plot(Outliers)\")\n",
    "    sns.boxplot(datos)\n",
    "    plt.show()\n",
    "Box_plot(datos['Physical_Activity_Hrs'])    "
   ]
  },
  {
   "cell_type": "markdown",
   "metadata": {},
   "source": [
    "# Paso 3: Limpieza de Datos"
   ]
  },
  {
   "cell_type": "markdown",
   "metadata": {},
   "source": [
    "Hacemos el cálculo del porcentaje por columnas: Observamos que las columnas Medication_Use, Substance_Use tienen valores nulos con un 62.25 %, 69.50 %,  respectivamente."
   ]
  },
  {
   "cell_type": "code",
   "execution_count": 21,
   "metadata": {},
   "outputs": [
    {
     "name": "stdout",
     "output_type": "stream",
     "text": [
      "Porcentajes:\n",
      " Age                               0.00\n",
      "Gender                            0.00\n",
      "Education_Level                   0.00\n",
      "Employment_Status                 0.00\n",
      "Sleep_Hours                       0.00\n",
      "Physical_Activity_Hrs             0.00\n",
      "Social_Support_Score              0.00\n",
      "Anxiety_Score                     0.00\n",
      "Depression_Score                  0.00\n",
      "Stress_Level                      0.00\n",
      "Family_History_Mental_Illness     0.00\n",
      "Chronic_Illnesses                 0.00\n",
      "Medication_Use                   62.25\n",
      "Therapy                           0.00\n",
      "Meditation                        0.00\n",
      "Substance_Use                    69.50\n",
      "Financial_Stress                  0.00\n",
      "Work_Stress                       0.00\n",
      "Self_Esteem_Score                 0.00\n",
      "Life_Satisfaction_Score           0.00\n",
      "Loneliness_Score                  0.00\n",
      "dtype: float64\n"
     ]
    }
   ],
   "source": [
    "porcentaje_nulos = (datos.isnull().sum() / len (datos))*100\n",
    "print(\"Porcentajes:\\n\",porcentaje_nulos)"
   ]
  },
  {
   "cell_type": "markdown",
   "metadata": {},
   "source": [
    "Hice una copia de la base de datos para poder trabajar con los datos nulos."
   ]
  },
  {
   "cell_type": "code",
   "execution_count": 22,
   "metadata": {},
   "outputs": [],
   "source": [
    "datos_cleaned = datos.copy()"
   ]
  },
  {
   "cell_type": "markdown",
   "metadata": {},
   "source": [
    "Para las dos variables (Medication_Use, Substance_Use ) con datos nulos, se relleno con el valor más frecuente(la moda) de ambas columnas."
   ]
  },
  {
   "cell_type": "code",
   "execution_count": 23,
   "metadata": {},
   "outputs": [],
   "source": [
    "datos_cleaned['Substance_Use'] = datos_cleaned['Substance_Use'].fillna(datos_cleaned['Substance_Use'].mode()[0])"
   ]
  },
  {
   "cell_type": "code",
   "execution_count": 24,
   "metadata": {},
   "outputs": [],
   "source": [
    "datos_cleaned['Medication_Use'] = datos_cleaned['Medication_Use'].fillna(datos_cleaned['Medication_Use'].mode()[0])"
   ]
  },
  {
   "cell_type": "code",
   "execution_count": 25,
   "metadata": {},
   "outputs": [
    {
     "name": "stdout",
     "output_type": "stream",
     "text": [
      "   Medication_Use Substance_Use\n",
      "0         Regular    Occasional\n",
      "1         Regular    Occasional\n",
      "2         Regular    Occasional\n",
      "3         Regular    Occasional\n",
      "4         Regular      Frequent\n",
      "5      Occasional    Occasional\n",
      "6         Regular    Occasional\n",
      "7         Regular    Occasional\n",
      "8      Occasional    Occasional\n",
      "9         Regular    Occasional\n",
      "10     Occasional    Occasional\n",
      "11     Occasional      Frequent\n",
      "12     Occasional    Occasional\n",
      "13        Regular    Occasional\n",
      "14        Regular    Occasional\n",
      "15        Regular      Frequent\n",
      "16     Occasional    Occasional\n",
      "17        Regular    Occasional\n",
      "18        Regular    Occasional\n",
      "19        Regular    Occasional\n",
      "20        Regular    Occasional\n",
      "21        Regular      Frequent\n",
      "22        Regular    Occasional\n",
      "23        Regular    Occasional\n",
      "24     Occasional    Occasional\n",
      "25        Regular    Occasional\n",
      "26     Occasional    Occasional\n",
      "27     Occasional    Occasional\n",
      "28        Regular    Occasional\n",
      "29     Occasional    Occasional\n"
     ]
    }
   ],
   "source": [
    "valores_modificados = (\n",
    "    datos_cleaned[\n",
    "        ['Medication_Use','Substance_Use']\n",
    "    ]\n",
    ")\n",
    "print(valores_modificados.head(30))"
   ]
  },
  {
   "cell_type": "markdown",
   "metadata": {},
   "source": [
    "Tome la desición de remplazar los valores nulos con la moda, ya que es un buen sustituto porque refleja el valor que más se repite y que probablemente tenga más sentido en términos del comportamiento de los datos."
   ]
  },
  {
   "cell_type": "markdown",
   "metadata": {},
   "source": [
    "# Paso 4: Análisis Estadístico"
   ]
  },
  {
   "cell_type": "code",
   "execution_count": 26,
   "metadata": {},
   "outputs": [
    {
     "name": "stdout",
     "output_type": "stream",
     "text": [
      "           Anxiety_Score                  Depression_Score                   \\\n",
      "                    mean       std median             mean       std median   \n",
      "Gender                                                                        \n",
      "Female         10.741652  5.875621   11.0        10.490334  5.672114   11.0   \n",
      "Male           10.167308  5.983671   10.0        10.771154  5.582412   11.0   \n",
      "Non-Binary     10.644444  5.591549   11.0        11.111111  5.434894   12.0   \n",
      "Other           9.857143  6.405355   10.0        11.380952  6.763699   13.0   \n",
      "\n",
      "           Stress_Level                   \n",
      "                   mean       std median  \n",
      "Gender                                    \n",
      "Female         4.927944  2.552976    5.0  \n",
      "Male           5.048077  2.548111    5.0  \n",
      "Non-Binary     5.122222  2.378876    5.0  \n",
      "Other          5.285714  2.667262    6.0  \n"
     ]
    }
   ],
   "source": [
    "estadisticos = datos_cleaned.groupby(\"Gender\")[[\"Anxiety_Score\", \"Depression_Score\", \"Stress_Level\"]].agg([\"mean\", \"std\", \"median\"])\n",
    "print(estadisticos)"
   ]
  },
  {
   "cell_type": "markdown",
   "metadata": {},
   "source": [
    "1.- Mayor variabilidad: El grupo \"Other\" tiene la mayor variabilidad en todos los puntajes (ansiedad, depresión, estrés).\n",
    "\n",
    "2.- Diferencia entre media y mediana: En ansiedad y depresión, la media tiende a ser menor que la mediana, lo que sugiere que las distribuciones están sesgadas a la izquierda.\n",
    "\n",
    "3.- Distribución simétrica: El puntaje de estrés muestra distribuciones más simétricas, ya que la media y la mediana son iguales en todos los grupos."
   ]
  },
  {
   "cell_type": "markdown",
   "metadata": {},
   "source": [
    "# Paso 5: Fltrado de Datos"
   ]
  },
  {
   "cell_type": "markdown",
   "metadata": {},
   "source": [
    "Aquí vas a enfocarte en subconjuntos específicos del dataset. Primero, identifica a las personas que tienen un puntaje alto en ansiedad (puedes elegir un valor alto, como por encima de 80). \n",
    "\n",
    "\n",
    "Luego, clasifica a las personas según las horas de sueño que reportan (menos de 5 horas, entre 5 y 7 horas, y más de 7 horas) y analiza cómo varía el nivel de estrés en cada grupo."
   ]
  },
  {
   "cell_type": "markdown",
   "metadata": {},
   "source": [
    "Se verifica a las personas que tienen un puntaje alto de ansiedad."
   ]
  },
  {
   "cell_type": "code",
   "execution_count": 27,
   "metadata": {},
   "outputs": [
    {
     "data": {
      "text/html": [
       "<div>\n",
       "<style scoped>\n",
       "    .dataframe tbody tr th:only-of-type {\n",
       "        vertical-align: middle;\n",
       "    }\n",
       "\n",
       "    .dataframe tbody tr th {\n",
       "        vertical-align: top;\n",
       "    }\n",
       "\n",
       "    .dataframe thead th {\n",
       "        text-align: right;\n",
       "    }\n",
       "</style>\n",
       "<table border=\"1\" class=\"dataframe\">\n",
       "  <thead>\n",
       "    <tr style=\"text-align: right;\">\n",
       "      <th></th>\n",
       "      <th>Age</th>\n",
       "      <th>Gender</th>\n",
       "      <th>Education_Level</th>\n",
       "      <th>Employment_Status</th>\n",
       "      <th>Sleep_Hours</th>\n",
       "      <th>Physical_Activity_Hrs</th>\n",
       "      <th>Social_Support_Score</th>\n",
       "      <th>Anxiety_Score</th>\n",
       "      <th>Depression_Score</th>\n",
       "      <th>Stress_Level</th>\n",
       "      <th>...</th>\n",
       "      <th>Chronic_Illnesses</th>\n",
       "      <th>Medication_Use</th>\n",
       "      <th>Therapy</th>\n",
       "      <th>Meditation</th>\n",
       "      <th>Substance_Use</th>\n",
       "      <th>Financial_Stress</th>\n",
       "      <th>Work_Stress</th>\n",
       "      <th>Self_Esteem_Score</th>\n",
       "      <th>Life_Satisfaction_Score</th>\n",
       "      <th>Loneliness_Score</th>\n",
       "    </tr>\n",
       "  </thead>\n",
       "  <tbody>\n",
       "  </tbody>\n",
       "</table>\n",
       "<p>0 rows × 21 columns</p>\n",
       "</div>"
      ],
      "text/plain": [
       "Empty DataFrame\n",
       "Columns: [Age, Gender, Education_Level, Employment_Status, Sleep_Hours, Physical_Activity_Hrs, Social_Support_Score, Anxiety_Score, Depression_Score, Stress_Level, Family_History_Mental_Illness, Chronic_Illnesses, Medication_Use, Therapy, Meditation, Substance_Use, Financial_Stress, Work_Stress, Self_Esteem_Score, Life_Satisfaction_Score, Loneliness_Score]\n",
       "Index: []\n",
       "\n",
       "[0 rows x 21 columns]"
      ]
     },
     "execution_count": 27,
     "metadata": {},
     "output_type": "execute_result"
    }
   ],
   "source": [
    "ansiedad_alta = datos_cleaned.loc[datos_cleaned['Anxiety_Score'] > 80]\n",
    "ansiedad_alta"
   ]
  },
  {
   "cell_type": "markdown",
   "metadata": {},
   "source": [
    "Se obtuvieron 0 personas con un puntaje de ansiedad mayor a 80"
   ]
  },
  {
   "cell_type": "markdown",
   "metadata": {},
   "source": [
    "De modo que, las clasificaciones de las personas según las horas de sueño (menos de 5, entre 5 y 7, más de 7) con el nivel de ansiedad dará cero."
   ]
  },
  {
   "cell_type": "markdown",
   "metadata": {},
   "source": [
    "De igual manera al analizar el nivel de estrés en cada categoría va dar cero."
   ]
  },
  {
   "cell_type": "markdown",
   "metadata": {},
   "source": [
    "Preguntas:\n",
    "\n",
    "    ¿Qué porcentaje del total presenta niveles altos de ansiedad?\n",
    "    De los 1200 personas, 0 tienen ansiedad alta mayor a 80.\n",
    "\n",
    "    ¿Existe una relación visible entre las horas de sueño y el nivel de estrés?\n",
    "Respecto a la existencia de relación, no se puede ver por el nivel escogido de 80."
   ]
  },
  {
   "cell_type": "markdown",
   "metadata": {},
   "source": [
    "# Paso 6: Ordenamiento"
   ]
  },
  {
   "cell_type": "markdown",
   "metadata": {},
   "source": []
  },
  {
   "cell_type": "code",
   "execution_count": null,
   "metadata": {},
   "outputs": [],
   "source": []
  }
 ],
 "metadata": {
  "kernelspec": {
   "display_name": "Proyecto_Ap2",
   "language": "python",
   "name": "python3"
  },
  "language_info": {
   "codemirror_mode": {
    "name": "ipython",
    "version": 3
   },
   "file_extension": ".py",
   "mimetype": "text/x-python",
   "name": "python",
   "nbconvert_exporter": "python",
   "pygments_lexer": "ipython3",
   "version": "3.10.12"
  }
 },
 "nbformat": 4,
 "nbformat_minor": 2
}
